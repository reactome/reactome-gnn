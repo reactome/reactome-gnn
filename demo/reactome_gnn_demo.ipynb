{
 "cells": [
  {
   "cell_type": "markdown",
   "id": "fdaca7d7",
   "metadata": {},
   "source": [
    "# Reactome_GNN Demo"
   ]
  },
  {
   "cell_type": "markdown",
   "id": "5e30571e-2ba8-45d8-b574-292932741f24",
   "metadata": {},
   "source": [
    "This notebook shows how to obtain GNN-generated embeddings for nodes in the human pathway network."
   ]
  },
  {
   "cell_type": "code",
   "execution_count": 1,
   "id": "afb67d38-533e-47ab-a913-9d235235d68b",
   "metadata": {},
   "outputs": [
    {
     "name": "stderr",
     "output_type": "stream",
     "text": [
      "Using backend: pytorch\n"
     ]
    }
   ],
   "source": [
    "import pickle\n",
    "import torch\n",
    "import dgl\n",
    "from reactome_gnn import utils, model"
   ]
  },
  {
   "cell_type": "markdown",
   "id": "8652ad38-cdf4-43f4-86f3-db4ea8d81500",
   "metadata": {},
   "source": [
    "## Embeddings of a single graph"
   ]
  },
  {
   "cell_type": "markdown",
   "id": "fd70dcc7-4625-4088-a63b-045f8f6e5383",
   "metadata": {},
   "source": [
    "Specify the list of markers and the threshold p-value."
   ]
  },
  {
   "cell_type": "code",
   "execution_count": 2,
   "id": "0507ada3-c0c0-4186-a30c-10fc31d3182b",
   "metadata": {},
   "outputs": [],
   "source": [
    "markers = ['RAS', 'MAP', 'IL10', 'EGF', 'EGFR', 'STAT']\n",
    "p_value = 0.05\n",
    "study = 'demo'"
   ]
  },
  {
   "cell_type": "markdown",
   "id": "a03f8244-ebe7-4af2-ab03-8afa07bfe4d5",
   "metadata": {},
   "source": [
    "Create network from the markers and with specified p-value threshold, given the name of the study. This function first runs the enrichment analysis on the human pathway network and returns the significant nodes. This information is then used to create the graph."
   ]
  },
  {
   "cell_type": "code",
   "execution_count": 3,
   "id": "272a3ac7-c72d-432d-b4b2-0fb49aa0c1e2",
   "metadata": {},
   "outputs": [],
   "source": [
    "graph = utils.create_network_from_markers(markers, p_value, study)"
   ]
  },
  {
   "cell_type": "markdown",
   "id": "14ea89f1-a0c0-4a25-bb42-9f17e27002da",
   "metadata": {},
   "source": [
    "The main class attribute of the returned graph is `graph.graph_nx` which is a `NetworkX.DiGraph` object---a directed graph where each node has a weight and a significance. Weight is the p-value returned by the enrichment analysis, and significance is a string stating whether the pathway in the network is significant or not. Significant pathways are those that have p-value lower than the specified threshold, in this case 0.05.\n",
    "\n",
    "For example, let's take a look at the nodes corresponding to R-HSA-1358803 and R-HSA-15869 pathways:"
   ]
  },
  {
   "cell_type": "code",
   "execution_count": 4,
   "id": "4eb5e873-1976-46aa-a28b-22339d2c349b",
   "metadata": {},
   "outputs": [
    {
     "data": {
      "text/plain": [
       "{'stId': 'R-HSA-1358803',\n",
       " 'name': 'Downregulation of ERBB2:ERBB3 signaling',\n",
       " 'weight': 0.0109,\n",
       " 'significance': 'significant'}"
      ]
     },
     "execution_count": 4,
     "metadata": {},
     "output_type": "execute_result"
    }
   ],
   "source": [
    "graph.graph_nx.nodes['R-HSA-1358803']"
   ]
  },
  {
   "cell_type": "code",
   "execution_count": 5,
   "id": "196b4ec1-6fba-4625-947b-27c9b094a738",
   "metadata": {},
   "outputs": [
    {
     "data": {
      "text/plain": [
       "{'stId': 'R-HSA-15869',\n",
       " 'name': 'Metabolism of nucleotides',\n",
       " 'weight': 0.161,\n",
       " 'significance': 'non-significant'}"
      ]
     },
     "execution_count": 5,
     "metadata": {},
     "output_type": "execute_result"
    }
   ],
   "source": [
    "graph.graph_nx.nodes['R-HSA-15869']"
   ]
  },
  {
   "cell_type": "markdown",
   "id": "01029b22-eac4-4d6e-8715-413df3ec93b8",
   "metadata": {},
   "source": [
    "We notice that R-HSA-1358803 corresponds to \"Downregulation of ERBB2:ERBB3 signaling\", and is significant in the network created with the markers specified above (its p-value is 0.0109 which is less than 0.05). On the other hand, R-HSA-15869 corresponds to \"Metabolism of nucleotides\" which is non-significant in this network (its p-value is 0.161)."
   ]
  },
  {
   "cell_type": "markdown",
   "id": "a63329ae-4520-4a50-9abe-b00fbe27e840",
   "metadata": {},
   "source": [
    "Next we want to do is create an embedding of that graph. But in order to do that, graph should be in the DGL format."
   ]
  },
  {
   "cell_type": "code",
   "execution_count": 6,
   "id": "b47e9b02-64c3-4d4c-bcbb-c0c42f1db087",
   "metadata": {},
   "outputs": [
    {
     "data": {
      "text/plain": [
       "Graph(num_nodes=16050, num_edges=16850,\n",
       "      ndata_schemes={'weight': Scheme(shape=(), dtype=torch.float32), 'significance': Scheme(shape=(), dtype=torch.float32)}\n",
       "      edata_schemes={})"
      ]
     },
     "execution_count": 6,
     "metadata": {},
     "output_type": "execute_result"
    }
   ],
   "source": [
    "graph_dgl = utils.nx_to_dgl(graph.graph_nx)\n",
    "graph_dgl"
   ]
  },
  {
   "cell_type": "markdown",
   "id": "b998e365-62bc-4a61-9707-5794d01aa556",
   "metadata": {},
   "source": [
    "We also need a GNN model which will produce the embeddings. Since we want the model to be reusable at any given time, the parameters of the model have to be saved to the disk and loaded upon model initialization. The demo model that is already saved is a 5-layers Graph Convolutional Network (GCN) and creates the the embeddings with latent dimension of 16.\n",
    "\n",
    "The GCN is chosen because it is a relatively \"lightweight\" model that was proven to have good performance on various graph-related tasks. For example, even when comparing an untrained GCN network against DeepWalk on semi-supervised node classification task, untrained GCN had superior performance! This means that it can more successfully leverage the topology of a graph and create meaningful representation than the traditional methods.\n",
    "\n",
    "First let's use a pretrained model which is saved as `data/example/models/model.pth`."
   ]
  },
  {
   "cell_type": "code",
   "execution_count": 7,
   "id": "578d74f1-63f9-4113-a865-0ef0bcb7c38e",
   "metadata": {},
   "outputs": [
    {
     "name": "stdout",
     "output_type": "stream",
     "text": [
      "GCNModel(\n",
      "  (linear): Linear(in_features=1, out_features=16, bias=True)\n",
      "  (conv_0): GraphConv(in=16, out=16, normalization=both, activation=None)\n",
      "  (relu): LeakyReLU(negative_slope=0.01)\n",
      "  (layers): ModuleList(\n",
      "    (0): GraphConv(in=16, out=16, normalization=both, activation=None)\n",
      "    (1): GraphConv(in=16, out=16, normalization=both, activation=None)\n",
      "    (2): GraphConv(in=16, out=16, normalization=both, activation=None)\n",
      "    (3): GraphConv(in=16, out=16, normalization=both, activation=None)\n",
      "  )\n",
      "  (predict): Linear(in_features=16, out_features=1, bias=True)\n",
      ")\n"
     ]
    }
   ],
   "source": [
    "net = model.GCNModel(dim_latent=16, num_layers=5)\n",
    "net.load_state_dict(torch.load('data/example/models/model.pth'))\n",
    "\n",
    "print(net)"
   ]
  },
  {
   "cell_type": "code",
   "execution_count": 8,
   "id": "8ae79414-2c92-475d-9312-6923dfb4de6d",
   "metadata": {},
   "outputs": [
    {
     "name": "stdout",
     "output_type": "stream",
     "text": [
      "torch.Size([16050, 16])\n"
     ]
    },
    {
     "data": {
      "text/plain": [
       "tensor([[ 0.0095,  0.0056, -0.0259,  ..., -0.0293,  0.0031,  0.0340],\n",
       "        [ 0.0095,  0.0056, -0.0259,  ..., -0.0293,  0.0031,  0.0340],\n",
       "        [ 0.0089,  0.0053, -0.0244,  ..., -0.0275,  0.0027,  0.0317],\n",
       "        ...,\n",
       "        [ 0.0142,  0.0084, -0.0389,  ..., -0.0442,  0.0047,  0.0511],\n",
       "        [ 0.0159,  0.0094, -0.0435,  ..., -0.0495,  0.0053,  0.0571],\n",
       "        [ 0.0155,  0.0088, -0.0432,  ..., -0.0478,  0.0050,  0.0564]])"
      ]
     },
     "execution_count": 8,
     "metadata": {},
     "output_type": "execute_result"
    }
   ],
   "source": [
    "embeddings = net(graph_dgl).detach()\n",
    "print(embeddings.shape)\n",
    "embeddings"
   ]
  },
  {
   "cell_type": "markdown",
   "id": "fca51a08-bdfe-47a1-9977-85539559d851",
   "metadata": {},
   "source": [
    "This tensor has a shape 16050 x 16, which means that each row represents the embedding of one node, as there are 16050 nodes in the pathway network, and each of these embeddings is 16-dimensional (as specified when initializing the model)."
   ]
  },
  {
   "cell_type": "markdown",
   "id": "357ed106-e22c-4930-8d00-eb56f59fb23e",
   "metadata": {},
   "source": [
    "To find the embeddings of some specific pathways, e.g. R-HSA-1358803, we have to load some auxilary information. We can also fetch embeddings of pathways by specifying their name, not only stId."
   ]
  },
  {
   "cell_type": "code",
   "execution_count": 9,
   "id": "1ac3033b-8d36-41c8-87c6-3ede4d6c1648",
   "metadata": {},
   "outputs": [],
   "source": [
    "name_to_id = pickle.load(open('data/example/info/name_to_id.pkl', 'rb'))\n",
    "sorted_stid_list = pickle.load(open('data/example/info/sorted_stid_list.pkl', 'rb'))"
   ]
  },
  {
   "cell_type": "markdown",
   "id": "71d593d8-048c-4855-9bb4-e5d3a8db4271",
   "metadata": {},
   "source": [
    "Here, `name_to_id` is a dictionary which maps each pathway name to its stId, and sorted_stid_list is, as the name states, the sorted list of all the stIds in the network. This is necessary due to how DGL stores the nodes when converting the network from the NetworkX format. Let's first obtain the embedding of R-HSA-1358803:"
   ]
  },
  {
   "cell_type": "code",
   "execution_count": 10,
   "id": "6c20da87-392a-4f35-9869-e5b2b8dd8dbb",
   "metadata": {},
   "outputs": [
    {
     "data": {
      "text/plain": [
       "tensor([ 6.3725e-04,  6.1199e-04,  9.7838e-04,  5.4713e-04, -1.3931e-03,\n",
       "         3.6057e-05, -4.5174e-05,  6.1824e-04, -6.0032e-05,  6.6200e-04,\n",
       "        -1.1824e-04,  7.9940e-04, -1.4857e-03, -9.1328e-04,  9.0162e-04,\n",
       "        -3.8281e-04])"
      ]
     },
     "execution_count": 10,
     "metadata": {},
     "output_type": "execute_result"
    }
   ],
   "source": [
    "idx = sorted_stid_list.index('R-HSA-1358803')\n",
    "embeddings[idx]"
   ]
  },
  {
   "cell_type": "markdown",
   "id": "1cc2aa1d-6b62-4ffd-a80c-fab33e482874",
   "metadata": {},
   "source": [
    "Let's now get the embedding of the pathway \"Metabolism of nucleotides\":"
   ]
  },
  {
   "cell_type": "code",
   "execution_count": 11,
   "id": "f949f91c-44eb-41e8-a03a-432aa41a8a20",
   "metadata": {},
   "outputs": [
    {
     "data": {
      "text/plain": [
       "tensor([ 1.9431e-04,  2.2929e-04, -3.3696e-04,  2.0422e-04, -1.3896e-03,\n",
       "        -9.8339e-05,  2.3732e-04,  3.5490e-05, -3.4470e-04,  6.5490e-04,\n",
       "        -5.2909e-04,  5.1950e-04, -2.6007e-04, -6.7819e-04,  6.6426e-05,\n",
       "         5.4241e-04])"
      ]
     },
     "execution_count": 11,
     "metadata": {},
     "output_type": "execute_result"
    }
   ],
   "source": [
    "stid = name_to_id['Metabolism of nucleotides']\n",
    "idx = sorted_stid_list.index(stid)\n",
    "embeddings[idx]"
   ]
  },
  {
   "cell_type": "markdown",
   "id": "6c38020b-6748-4cb4-810c-f2598e4e837a",
   "metadata": {},
   "source": [
    "## Working with datasets"
   ]
  },
  {
   "cell_type": "markdown",
   "id": "320242ea-919d-41be-a98a-2a695ab32b91",
   "metadata": {},
   "source": [
    "Steps above are useful when we are working with a single pathway network, but the procedure could be cumbersome when we need to work with several networks. That's where we can use datasets to automate part of the process. Here we will work with a toy dataset consisting of four different pathways, generated by lighting up pathways specified via their name. The networks are called A, B, C, and D, and the relations between them is such that $A = D$, $A \\& D \\subset C$, $B \\cap C = \\emptyset$."
   ]
  },
  {
   "cell_type": "code",
   "execution_count": 12,
   "id": "205dcc46-a8a7-469a-be36-a6c387237832",
   "metadata": {},
   "outputs": [],
   "source": [
    "graph_A, graph_B, graph_c, graph_D, _ = utils.create_toy_study_with_names(data_dir='data/example')\n",
    "embedding_dict = utils.create_embeddings(data_dir='data/example')"
   ]
  },
  {
   "cell_type": "markdown",
   "id": "1a0d25ee-bb1c-488b-aac0-af45ffdadafe",
   "metadata": {},
   "source": [
    "What happens under the hood is that a PathwayDataset is created. This is a DGL dataset that makes processing raw graphs and loading DGL graphs easier. Creating this dataset is not mandatory, but helps when working with multiple graphs."
   ]
  },
  {
   "cell_type": "code",
   "execution_count": 13,
   "id": "d95c12af-8581-4a29-a130-d06657f33ad7",
   "metadata": {},
   "outputs": [
    {
     "name": "stdout",
     "output_type": "stream",
     "text": [
      "study_A.dgl\n",
      "Graph(num_nodes=16050, num_edges=16850,\n",
      "      ndata_schemes={'significance': Scheme(shape=(), dtype=torch.float32), 'weight': Scheme(shape=(), dtype=torch.float32)}\n",
      "      edata_schemes={})\n"
     ]
    }
   ],
   "source": [
    "from reactome_gnn import dataset\n",
    "\n",
    "ds = dataset.PathwayDataset(root='data/example')\n",
    "\n",
    "graph, name = ds[0]\n",
    "print(name)\n",
    "print(graph)"
   ]
  },
  {
   "cell_type": "markdown",
   "id": "b2755420-0736-45d7-bcf2-e24f8a0fb47e",
   "metadata": {},
   "source": [
    "But let's return to creating the embeddings. What's inside the embedding_dict?"
   ]
  },
  {
   "cell_type": "code",
   "execution_count": 14,
   "id": "fef9f1f5-7def-41c7-9929-0a44b00aaf66",
   "metadata": {},
   "outputs": [
    {
     "data": {
      "text/plain": [
       "{'study_A.dgl': tensor([[ 0.0094,  0.0057, -0.0255,  ..., -0.0291,  0.0030,  0.0336],\n",
       "         [ 0.0094,  0.0057, -0.0255,  ..., -0.0291,  0.0030,  0.0336],\n",
       "         [ 0.0096,  0.0054, -0.0268,  ..., -0.0297,  0.0031,  0.0350],\n",
       "         ...,\n",
       "         [ 0.0143,  0.0083, -0.0393,  ..., -0.0442,  0.0047,  0.0516],\n",
       "         [ 0.0160,  0.0094, -0.0440,  ..., -0.0496,  0.0052,  0.0577],\n",
       "         [ 0.0154,  0.0087, -0.0429,  ..., -0.0475,  0.0050,  0.0560]]),\n",
       " 'study_B.dgl': tensor([[ 0.0098,  0.0055, -0.0272,  ..., -0.0301,  0.0032,  0.0355],\n",
       "         [ 0.0098,  0.0055, -0.0272,  ..., -0.0301,  0.0032,  0.0355],\n",
       "         [ 0.0087,  0.0053, -0.0235,  ..., -0.0271,  0.0027,  0.0306],\n",
       "         ...,\n",
       "         [ 0.0146,  0.0083, -0.0407,  ..., -0.0451,  0.0048,  0.0532],\n",
       "         [ 0.0164,  0.0093, -0.0457,  ..., -0.0507,  0.0053,  0.0598],\n",
       "         [ 0.0155,  0.0088, -0.0432,  ..., -0.0479,  0.0050,  0.0565]]),\n",
       " 'study_C.dgl': tensor([[ 0.0095,  0.0057, -0.0255,  ..., -0.0293,  0.0031,  0.0337],\n",
       "         [ 0.0095,  0.0057, -0.0255,  ..., -0.0293,  0.0031,  0.0337],\n",
       "         [ 0.0096,  0.0054, -0.0268,  ..., -0.0297,  0.0031,  0.0350],\n",
       "         ...,\n",
       "         [ 0.0142,  0.0084, -0.0388,  ..., -0.0442,  0.0048,  0.0510],\n",
       "         [ 0.0158,  0.0094, -0.0433,  ..., -0.0496,  0.0053,  0.0570],\n",
       "         [ 0.0155,  0.0088, -0.0430,  ..., -0.0476,  0.0050,  0.0562]]),\n",
       " 'study_D.dgl': tensor([[ 0.0094,  0.0057, -0.0255,  ..., -0.0291,  0.0030,  0.0336],\n",
       "         [ 0.0094,  0.0057, -0.0255,  ..., -0.0291,  0.0030,  0.0336],\n",
       "         [ 0.0096,  0.0054, -0.0268,  ..., -0.0297,  0.0031,  0.0350],\n",
       "         ...,\n",
       "         [ 0.0143,  0.0083, -0.0393,  ..., -0.0442,  0.0047,  0.0516],\n",
       "         [ 0.0160,  0.0094, -0.0440,  ..., -0.0496,  0.0052,  0.0577],\n",
       "         [ 0.0154,  0.0087, -0.0429,  ..., -0.0475,  0.0050,  0.0560]]),\n",
       " 'study_E.dgl': tensor([[ 0.0098,  0.0055, -0.0272,  ..., -0.0301,  0.0032,  0.0355],\n",
       "         [ 0.0098,  0.0055, -0.0272,  ..., -0.0301,  0.0032,  0.0355],\n",
       "         [ 0.0096,  0.0054, -0.0268,  ..., -0.0297,  0.0031,  0.0350],\n",
       "         ...,\n",
       "         [ 0.0146,  0.0083, -0.0407,  ..., -0.0451,  0.0048,  0.0532],\n",
       "         [ 0.0164,  0.0093, -0.0457,  ..., -0.0507,  0.0053,  0.0598],\n",
       "         [ 0.0152,  0.0088, -0.0419,  ..., -0.0470,  0.0049,  0.0548]]),\n",
       " 'study_F.dgl': tensor([[ 0.0098,  0.0055, -0.0272,  ..., -0.0301,  0.0032,  0.0355],\n",
       "         [ 0.0098,  0.0055, -0.0272,  ..., -0.0301,  0.0032,  0.0355],\n",
       "         [ 0.0096,  0.0054, -0.0268,  ..., -0.0297,  0.0031,  0.0350],\n",
       "         ...,\n",
       "         [ 0.0146,  0.0083, -0.0407,  ..., -0.0451,  0.0048,  0.0532],\n",
       "         [ 0.0164,  0.0093, -0.0457,  ..., -0.0507,  0.0053,  0.0598],\n",
       "         [ 0.0154,  0.0087, -0.0429,  ..., -0.0475,  0.0050,  0.0560]]),\n",
       " 'study_G.dgl': tensor([[ 0.0094,  0.0056, -0.0258,  ..., -0.0291,  0.0030,  0.0339],\n",
       "         [ 0.0094,  0.0056, -0.0258,  ..., -0.0291,  0.0030,  0.0339],\n",
       "         [ 0.0096,  0.0054, -0.0268,  ..., -0.0297,  0.0031,  0.0350],\n",
       "         ...,\n",
       "         [ 0.0146,  0.0083, -0.0406,  ..., -0.0450,  0.0047,  0.0530],\n",
       "         [ 0.0164,  0.0093, -0.0456,  ..., -0.0505,  0.0053,  0.0596],\n",
       "         [ 0.0154,  0.0087, -0.0429,  ..., -0.0475,  0.0050,  0.0560]]),\n",
       " 'study_H.dgl': tensor([[ 0.0095,  0.0055, -0.0262,  ..., -0.0293,  0.0030,  0.0342],\n",
       "         [ 0.0095,  0.0055, -0.0262,  ..., -0.0293,  0.0030,  0.0342],\n",
       "         [ 0.0096,  0.0054, -0.0268,  ..., -0.0297,  0.0031,  0.0350],\n",
       "         ...,\n",
       "         [ 0.0146,  0.0083, -0.0406,  ..., -0.0450,  0.0047,  0.0531],\n",
       "         [ 0.0164,  0.0093, -0.0457,  ..., -0.0506,  0.0053,  0.0597],\n",
       "         [ 0.0153,  0.0087, -0.0426,  ..., -0.0473,  0.0050,  0.0556]]),\n",
       " 'study_I.dgl': tensor([[ 0.0094,  0.0058, -0.0250,  ..., -0.0292,  0.0032,  0.0332],\n",
       "         [ 0.0094,  0.0058, -0.0250,  ..., -0.0292,  0.0032,  0.0332],\n",
       "         [ 0.0086,  0.0055, -0.0226,  ..., -0.0274,  0.0030,  0.0298],\n",
       "         ...,\n",
       "         [ 0.0136,  0.0088, -0.0342,  ..., -0.0425,  0.0050,  0.0461],\n",
       "         [ 0.0128,  0.0107, -0.0271,  ..., -0.0441,  0.0066,  0.0394],\n",
       "         [ 0.0152,  0.0088, -0.0422,  ..., -0.0471,  0.0049,  0.0552]]),\n",
       " 'study_J.dgl': tensor([[ 0.0094,  0.0056, -0.0258,  ..., -0.0291,  0.0030,  0.0339],\n",
       "         [ 0.0094,  0.0056, -0.0258,  ..., -0.0291,  0.0030,  0.0339],\n",
       "         [ 0.0096,  0.0054, -0.0268,  ..., -0.0297,  0.0031,  0.0350],\n",
       "         ...,\n",
       "         [ 0.0146,  0.0083, -0.0406,  ..., -0.0450,  0.0047,  0.0530],\n",
       "         [ 0.0164,  0.0093, -0.0456,  ..., -0.0505,  0.0053,  0.0596],\n",
       "         [ 0.0155,  0.0088, -0.0432,  ..., -0.0479,  0.0050,  0.0565]]),\n",
       " 'study_K.dgl': tensor([[ 0.0096,  0.0055, -0.0267,  ..., -0.0297,  0.0031,  0.0349],\n",
       "         [ 0.0096,  0.0055, -0.0267,  ..., -0.0297,  0.0031,  0.0349],\n",
       "         [ 0.0096,  0.0054, -0.0268,  ..., -0.0297,  0.0031,  0.0350],\n",
       "         ...,\n",
       "         [ 0.0142,  0.0083, -0.0391,  ..., -0.0441,  0.0046,  0.0513],\n",
       "         [ 0.0159,  0.0094, -0.0437,  ..., -0.0494,  0.0052,  0.0573],\n",
       "         [ 0.0152,  0.0088, -0.0421,  ..., -0.0471,  0.0049,  0.0550]]),\n",
       " 'study_L.dgl': tensor([[ 0.0098,  0.0055, -0.0272,  ..., -0.0301,  0.0032,  0.0355],\n",
       "         [ 0.0098,  0.0055, -0.0272,  ..., -0.0301,  0.0032,  0.0355],\n",
       "         [ 0.0086,  0.0055, -0.0226,  ..., -0.0274,  0.0030,  0.0298],\n",
       "         ...,\n",
       "         [ 0.0146,  0.0083, -0.0407,  ..., -0.0451,  0.0048,  0.0532],\n",
       "         [ 0.0164,  0.0093, -0.0457,  ..., -0.0507,  0.0053,  0.0598],\n",
       "         [ 0.0154,  0.0087, -0.0427,  ..., -0.0474,  0.0050,  0.0557]])}"
      ]
     },
     "execution_count": 14,
     "metadata": {},
     "output_type": "execute_result"
    }
   ],
   "source": [
    "embedding_dict"
   ]
  },
  {
   "cell_type": "markdown",
   "id": "ca468a7b-8e96-43b8-854e-7e494762b9bf",
   "metadata": {},
   "source": [
    "We see that we have obtained a dictionary, where keys are the names of the graphs, and the values are the embedding tensors for the corresponding graphs. The graph E is created for the validation purposes during the model training. We can obtain the embedding of each node in the same way as we did above, in the case of a single graph."
   ]
  },
  {
   "cell_type": "markdown",
   "id": "ac737fb8-e99c-4277-95e1-30d4d8e4cd41",
   "metadata": {},
   "source": [
    "### Comparing the embeddings"
   ]
  },
  {
   "cell_type": "markdown",
   "id": "80c98590-e589-4167-835e-f9a8ded98037",
   "metadata": {},
   "source": [
    "To compare the embeddings obtained above, we use Canonical Correlation Analysis (CCA).  First we specify the targets Y for each graph, which specify which nodes are significant and which are not. Then we fit the data on the CCA model from scikit-learn. This fitted model can be used to transform embedding data and compare embeddings of nodes across different graphs. This is all done inside the `utils.fit_cca_on_toy_data()` function, so we can simply call it like this:"
   ]
  },
  {
   "cell_type": "code",
   "execution_count": 15,
   "id": "f79d6668-92c3-46d1-af46-5039d1953f40",
   "metadata": {},
   "outputs": [],
   "source": [
    "cca = utils.fit_cca_on_toy_data('data/example')"
   ]
  },
  {
   "cell_type": "markdown",
   "id": "ad2294fd-b3a3-4611-92b7-d4bea407657b",
   "metadata": {},
   "source": [
    "But for the sake of ilustration, we show here how it is done step-by-step so that the code can be reused with new data."
   ]
  },
  {
   "cell_type": "code",
   "execution_count": 16,
   "id": "6867c7a4-3abf-4514-b569-40d75ee650b3",
   "metadata": {},
   "outputs": [
    {
     "data": {
      "text/plain": [
       "CCA(n_components=1)"
      ]
     },
     "execution_count": 16,
     "metadata": {},
     "output_type": "execute_result"
    }
   ],
   "source": [
    "# Note: We do not fit graph D, since it is equivalent to graph A\n",
    "\n",
    "from sklearn.cross_decomposition import CCA\n",
    "\n",
    "study_A = [\"Signaling by WNT\", \"WNT ligand biogenesis and trafficking\", \"Degradation of beta-catenin by the destruction complex\",\n",
    "           \"TCF dependent signaling in response to WNT\", \"Beta-catenin independent WNT signaling\"]\n",
    "study_B = [\"Autophagy\", \"Macroautophagy\", \"Chaperone Mediated Autophagy\", \"Late endosomal microautophagy\"]\n",
    "study_C = [\"Signal Transduction\", \"Signaling by NOTCH\", \"Signaling by NOTCH1\", \"Signaling by NOTCH2\", \"Signaling by NOTCH3\",\n",
    "           \"Signaling by NOTCH4\", \"Activated NOTCH1 Transmits Signal to the Nucleus\",\n",
    "           \"NOTCH1 Intracellular Domain Regulates Transcription\", \"Signaling by WNT\", \"WNT ligand biogenesis and trafficking\",\n",
    "           \"Degradation of beta-catenin by the destruction complex\", \"TCF dependent signaling in response to WNT\",\n",
    "           \"Beta-catenin independent WNT signaling\"]\n",
    "\n",
    "emb_A = embedding_dict['study_A.dgl']\n",
    "emb_B = embedding_dict['study_B.dgl']\n",
    "emb_C = embedding_dict['study_C.dgl']\n",
    "emb_D = embedding_dict['study_D.dgl']\n",
    "\n",
    "name_to_id = pickle.load(open('data/example/info/name_to_id.pkl', 'rb'))\n",
    "sorted_stid_list = pickle.load(open('data/example/info/sorted_stid_list.pkl', 'rb'))\n",
    "\n",
    "indices_A = [sorted_stid_list.index(id) for name, id in name_to_id.items() if name in study_A]\n",
    "indices_B = [sorted_stid_list.index(id) for name, id in name_to_id.items() if name in study_B]\n",
    "indices_C = [sorted_stid_list.index(id) for name, id in name_to_id.items() if name in study_C]\n",
    "\n",
    "y_A = torch.tensor([1.0 if i in indices_A else 0.0 for i in range(len(sorted_stid_list))]).unsqueeze(-1)\n",
    "y_B = torch.tensor([1.0 if i in indices_B else 0.0 for i in range(len(sorted_stid_list))]).unsqueeze(-1)\n",
    "y_C = torch.tensor([1.0 if i in indices_C else 0.0 for i in range(len(sorted_stid_list))]).unsqueeze(-1)\n",
    "\n",
    "cca = CCA(1)\n",
    "cca.fit(emb_A, y_A).fit(emb_B, y_B).fit(emb_C, y_C)\n",
    "cca"
   ]
  },
  {
   "cell_type": "markdown",
   "id": "b821c912-a762-43ed-b151-965e8336e465",
   "metadata": {},
   "source": [
    "Next thing we need to do is transform the embedding tensors:"
   ]
  },
  {
   "cell_type": "code",
   "execution_count": 17,
   "id": "719a2de2-ff7a-45fd-8bfc-b09f6d1892ae",
   "metadata": {},
   "outputs": [],
   "source": [
    "emb_A_t = cca.transform(emb_A)\n",
    "emb_B_t = cca.transform(emb_B)\n",
    "emb_C_t = cca.transform(emb_C)\n",
    "emb_D_t = cca.transform(emb_D)"
   ]
  },
  {
   "cell_type": "markdown",
   "id": "72e8157b-2241-4710-b93e-6bac78d5c430",
   "metadata": {},
   "source": [
    "Finally, we can compare the obtained embeddings. For example, let's compare the embeddings of nodes that correspond to pathway \"WNT ligand biogenesis and trafficking\". This pathway is present in graphs A, C, and D, but not in B."
   ]
  },
  {
   "cell_type": "code",
   "execution_count": 18,
   "id": "e6064930-1034-40d1-8443-9fb2fe1e0ed6",
   "metadata": {},
   "outputs": [
    {
     "name": "stdout",
     "output_type": "stream",
     "text": [
      "[-2.3808361e-05] [-2.06522513e-05] [-2.3808361e-05] [-2.3808361e-05]\n"
     ]
    }
   ],
   "source": [
    "stid = name_to_id['WNT ligand biogenesis and trafficking']\n",
    "idx = sorted_stid_list.index(stid)\n",
    "\n",
    "print(emb_A_t[idx], emb_B_t[idx], emb_C_t[idx], emb_D_t[idx])"
   ]
  },
  {
   "cell_type": "markdown",
   "id": "b262da5f-9b4b-4c02-8469-c648723e21a3",
   "metadata": {},
   "source": [
    "We can see that the values returned are identical in the case of A, C, and D. This is due to similarity of the three pathway networks and the fact that the specified pathway is significant in all three of them. We also notice that the value is relatively different in the case of network B in which this pathway is not significant. This shows that the embeddings are consistent within this dataset. Furthermore, we epxect that a network with a higher expressive power would be able to discriminate better between different embeddings."
   ]
  },
  {
   "cell_type": "markdown",
   "id": "418858a3-1cab-438f-9ccf-1c85ce366bfa",
   "metadata": {},
   "source": [
    "## Training a new model"
   ]
  },
  {
   "cell_type": "markdown",
   "id": "8f861195-fc6f-4fd0-af6c-60f7eff26b0d",
   "metadata": {},
   "source": [
    "Let's now train a new model from scratch! First we need to define hyperparameters which will be used. The available hyperparameters are:\n",
    "- `num_epochs` - For how many epochs will the model be trained\n",
    "- `dim_latent` - Dimension of the produced embeddings\n",
    "- `num_layers` - Number of hidden GCN layers in the network\n",
    "- `batch_size` - Number of examples in a mini-batch\n",
    "- `device`     - CUDA or CPU\n",
    "- `lr`         - Learning rate\n",
    "\n",
    "The hyperparameters are stored in a dictionary. Let's define a network with 4 GCN layers, and let the embedding dimenion be 32. We will train the network for 200 epochs. The batch size, due to a small number of training dataset, will be one, and learning rate will be 5e-4."
   ]
  },
  {
   "cell_type": "code",
   "execution_count": 24,
   "id": "78a6f931-e585-4b7a-a84e-5ac970499eb7",
   "metadata": {},
   "outputs": [],
   "source": [
    "hyperparameters = {\n",
    "        'num_epochs': 200,\n",
    "        'dim_latent': 32,\n",
    "        'num_layers': 4,\n",
    "        'batch_size': 1,\n",
    "        'device': 'cuda' if torch.cuda.is_available() else 'cpu',\n",
    "        'lr': 5e-4,\n",
    "}"
   ]
  },
  {
   "cell_type": "markdown",
   "id": "a54ba9a5-570d-402b-bf99-60284e327558",
   "metadata": {},
   "source": [
    "Training the model can be done separately by calling a `train` function in the `train.py` module. The loss plot will be saved to the disk, as well as the trained model. However, this is also done automatically in the `utils.create_embeddings` function, if appropriate arguments are passed. We can take a look at that function to see which arguments we need."
   ]
  },
  {
   "cell_type": "code",
   "execution_count": 20,
   "id": "ed48f976-9872-4d5c-9e7d-c9f6b2ea977f",
   "metadata": {},
   "outputs": [
    {
     "name": "stdout",
     "output_type": "stream",
     "text": [
      "Help on function create_embeddings in module reactome_gnn.utils:\n",
      "\n",
      "create_embeddings(load_model=True, save=False, data_dir='demo/data/example', hyperparams=None, plot=True)\n",
      "    Create embeddings for all the graphs stored on the disk.\n",
      "    \n",
      "    First the Pathway dataset is created which takes all the graphs\n",
      "    stored in the 'raw' directory, processes them, and stores them in\n",
      "    the 'processed' directory. Each graph is fed to the model with\n",
      "    specified latent dimension and number of GCN layers, which returns\n",
      "    the embedding of that graph. All the embeddings are saved on the\n",
      "    disk in the 'embeddings' directory.\n",
      "    \n",
      "    Parameters\n",
      "    ----------\n",
      "    load_model : bool, optional\n",
      "        Whether to load an old model or create a new one\n",
      "    save : bool, optional\n",
      "        Whether to save the created embeddings to the disk, default: False\n",
      "    data_dir : str, optional\n",
      "        Relative path to where the data is stored\n",
      "    hyperparams : dict, optional\n",
      "        In case no hyperparameter dictionary is passed, default\n",
      "        hyperparameters are used\n",
      "    plot : bool, optional\n",
      "        In case of training the model, whether loss should be plotted\n",
      "    \n",
      "    Returns\n",
      "    -------\n",
      "    list\n",
      "        A list of embedding-tuples, the first element in the tuple is\n",
      "        the name of the graph, the second element is the corresponding\n",
      "        embedding.\n",
      "\n"
     ]
    }
   ],
   "source": [
    "help(utils.create_embeddings)"
   ]
  },
  {
   "cell_type": "markdown",
   "id": "47e2263d-5280-46f6-8489-d4a906a3bb2b",
   "metadata": {},
   "source": [
    "We can see that `load_model` should be set to `False` (since we want to train a new model, not load a pretrained one), and that we should pass the defined dictionary as `hyperparams`. Running this function will also run the training loop, which will output training and validation loss every 20 epochs, as well as the F1-score to see how accurately we can predict the significance from the weights and the topology of the graph. Finally, we plot how the loss and F1-score change over epochs."
   ]
  },
  {
   "cell_type": "code",
   "execution_count": 25,
   "id": "aa766c01-853f-4224-9b6a-651c7b521449",
   "metadata": {},
   "outputs": [
    {
     "name": "stdout",
     "output_type": "stream",
     "text": [
      "Epoch: 20\tTraining loss:\t\t9.598915539754671e-05\n",
      "Epoch: 20\tValidation loss:\t0.00011797092338383663\n",
      "Epoch: 20\tF1 score:\t\t0.0\n",
      "\n",
      "Epoch: 40\tTraining loss:\t\t1.5704351767453772e-05\n",
      "Epoch: 40\tValidation loss:\t3.1787540308414464e-05\n",
      "Epoch: 40\tF1 score:\t\t0.05273321449792038\n",
      "\n",
      "Epoch: 60\tTraining loss:\t\t7.354884978383325e-06\n",
      "Epoch: 60\tValidation loss:\t1.8445607992134683e-05\n",
      "Epoch: 60\tF1 score:\t\t0.2104129530600119\n",
      "\n",
      "Epoch: 80\tTraining loss:\t\t4.610541221694575e-06\n",
      "Epoch: 80\tValidation loss:\t1.3162295573465599e-05\n",
      "Epoch: 80\tF1 score:\t\t0.25425963488843817\n",
      "\n",
      "Epoch: 100\tTraining loss:\t\t3.3583439194018183e-06\n",
      "Epoch: 100\tValidation loss:\t1.0290084233588459e-05\n",
      "Epoch: 100\tF1 score:\t\t0.32992470492470494\n",
      "\n",
      "Epoch: 120\tTraining loss:\t\t2.674771478083926e-06\n",
      "Epoch: 120\tValidation loss:\t8.485848226769122e-06\n",
      "Epoch: 120\tF1 score:\t\t0.38278985507246377\n",
      "\n",
      "Epoch: 140\tTraining loss:\t\t2.283150870141526e-06\n",
      "Epoch: 140\tValidation loss:\t7.152752019123909e-06\n",
      "Epoch: 140\tF1 score:\t\t0.35580963154492573\n",
      "\n",
      "Epoch: 160\tTraining loss:\t\t2.047880558464499e-06\n",
      "Epoch: 160\tValidation loss:\t6.205442431905794e-06\n",
      "Epoch: 160\tF1 score:\t\t0.3789863996573142\n",
      "\n",
      "Epoch: 180\tTraining loss:\t\t1.9003664721850555e-06\n",
      "Epoch: 180\tValidation loss:\t5.300795663742974e-06\n",
      "Epoch: 180\tF1 score:\t\t0.3615463180233156\n",
      "\n",
      "Epoch: 200\tTraining loss:\t\t1.7965587577606357e-06\n",
      "Epoch: 200\tValidation loss:\t4.765435718923072e-06\n",
      "Epoch: 200\tF1 score:\t\t0.37492313216360584\n",
      "\n"
     ]
    },
    {
     "data": {
      "image/png": "[encoded data removed]",
      "text/plain": [
       "<Figure size 432x288 with 1 Axes>"
      ]
     },
     "metadata": {
      "needs_background": "light"
     },
     "output_type": "display_data"
    },
    {
     "data": {
      "image/png": "[encoded data removed]",
      "text/plain": [
       "<Figure size 432x288 with 1 Axes>"
      ]
     },
     "metadata": {
      "needs_background": "light"
     },
     "output_type": "display_data"
    }
   ],
   "source": [
    "embedding_dict = utils.create_embeddings(data_dir='data/example', load_model=False, hyperparams=hyperparameters)"
   ]
  },
  {
   "cell_type": "markdown",
   "id": "d66c0e12-8161-43f3-a1b3-d052eb1a0b80",
   "metadata": {},
   "source": [
    "We can notice how the loss drops significantly during training, and that F1-score rises to almost 0.4, but doesn't stop there. This means that if we trained the network for longer the F1-score could rise even higher and the embeddings could get more descriptive. This is also a case if we used a network with more layers and produced the embeddings with higher dimensionality. This all falls under the cathegory of hyperparameter optimization, which is an active research area.\n",
    "\n",
    "Since these embeddings are not stored on the disk (we didn't specify `save=True`), let's perform CCA analysis manually once again."
   ]
  },
  {
   "cell_type": "code",
   "execution_count": 26,
   "id": "d353cafd-60db-4231-8900-762d1a64bfc6",
   "metadata": {},
   "outputs": [],
   "source": [
    "emb_A = embedding_dict['study_A.dgl']\n",
    "emb_B = embedding_dict['study_B.dgl']\n",
    "emb_C = embedding_dict['study_C.dgl']\n",
    "emb_D = embedding_dict['study_D.dgl']\n",
    "\n",
    "name_to_id = pickle.load(open('data/example/info/name_to_id.pkl', 'rb'))\n",
    "sorted_stid_list = pickle.load(open('data/example/info/sorted_stid_list.pkl', 'rb'))\n",
    "\n",
    "indices_A = [sorted_stid_list.index(id) for name, id in name_to_id.items() if name in study_A]\n",
    "indices_B = [sorted_stid_list.index(id) for name, id in name_to_id.items() if name in study_B]\n",
    "indices_C = [sorted_stid_list.index(id) for name, id in name_to_id.items() if name in study_C]\n",
    "\n",
    "y_A = torch.tensor([1.0 if i in indices_A else 0.0 for i in range(len(sorted_stid_list))]).unsqueeze(-1)\n",
    "y_B = torch.tensor([1.0 if i in indices_B else 0.0 for i in range(len(sorted_stid_list))]).unsqueeze(-1)\n",
    "y_C = torch.tensor([1.0 if i in indices_C else 0.0 for i in range(len(sorted_stid_list))]).unsqueeze(-1)\n",
    "\n",
    "cca = CCA(1)\n",
    "cca.fit(emb_A, y_A).fit(emb_B, y_B).fit(emb_C, y_C)\n",
    "\n",
    "emb_A_t = cca.transform(emb_A)\n",
    "emb_B_t = cca.transform(emb_B)\n",
    "emb_C_t = cca.transform(emb_C)\n",
    "emb_D_t = cca.transform(emb_D)"
   ]
  },
  {
   "cell_type": "code",
   "execution_count": 27,
   "id": "7a80e186-fe6d-4e2b-bf0e-e95f9076e0d9",
   "metadata": {},
   "outputs": [
    {
     "name": "stdout",
     "output_type": "stream",
     "text": [
      "[6.6880423e-06] [4.83995163e-06] [6.6880423e-06] [6.6880423e-06]\n"
     ]
    }
   ],
   "source": [
    "stid = name_to_id['WNT ligand biogenesis and trafficking']\n",
    "idx = sorted_stid_list.index(stid)\n",
    "\n",
    "print(emb_A_t[idx], emb_B_t[idx], emb_C_t[idx], emb_D_t[idx])"
   ]
  },
  {
   "cell_type": "markdown",
   "id": "0efd6a71-f50c-4c4e-a58f-2673d1316f8c",
   "metadata": {},
   "source": [
    "We see that the values of A, C, and D are still the same as they should be. We also notice that the difference between the value of B is significantly more different form the other values than it was in the previous case. This could mean that this network has a higher expressive power and it produces better embeddings for downstream tasks, which remain consistent within the dataset."
   ]
  }
 ],
 "metadata": {
  "kernelspec": {
   "display_name": "Python 3 (ipykernel)",
   "language": "python",
   "name": "python3"
  },
  "language_info": {
   "codemirror_mode": {
    "name": "ipython",
    "version": 3
   },
   "file_extension": ".py",
   "mimetype": "text/x-python",
   "name": "python",
   "nbconvert_exporter": "python",
   "pygments_lexer": "ipython3",
   "version": "3.8.10"
  }
 },
 "nbformat": 4,
 "nbformat_minor": 5
}
