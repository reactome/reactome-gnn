{
 "cells": [
  {
   "cell_type": "markdown",
   "id": "fdaca7d7",
   "metadata": {},
   "source": [
    "# Reactome_GNN Demo"
   ]
  },
  {
   "cell_type": "markdown",
   "id": "5e30571e-2ba8-45d8-b574-292932741f24",
   "metadata": {},
   "source": [
    "This notebook shows how to obtain GNN-generated embeddings for nodes in the human pathway network."
   ]
  },
  {
   "cell_type": "code",
   "execution_count": 1,
   "id": "afb67d38-533e-47ab-a913-9d235235d68b",
   "metadata": {},
   "outputs": [
    {
     "name": "stderr",
     "output_type": "stream",
     "text": [
      "Using backend: pytorch\n"
     ]
    }
   ],
   "source": [
    "import pickle\n",
    "import torch\n",
    "import dgl\n",
    "from reactome_gnn import utils, model"
   ]
  },
  {
   "cell_type": "markdown",
   "id": "8652ad38-cdf4-43f4-86f3-db4ea8d81500",
   "metadata": {},
   "source": [
    "## Embeddings of a single graph"
   ]
  },
  {
   "cell_type": "markdown",
   "id": "fd70dcc7-4625-4088-a63b-045f8f6e5383",
   "metadata": {},
   "source": [
    "Specify the list of markers and the threshold p-value."
   ]
  },
  {
   "cell_type": "code",
   "execution_count": 2,
   "id": "0507ada3-c0c0-4186-a30c-10fc31d3182b",
   "metadata": {},
   "outputs": [],
   "source": [
    "markers = ['RAS', 'MAP', 'IL10', 'EGF', 'EGFR', 'STAT']\n",
    "p_value = 0.05\n",
    "study = 'demo'"
   ]
  },
  {
   "cell_type": "markdown",
   "id": "a03f8244-ebe7-4af2-ab03-8afa07bfe4d5",
   "metadata": {},
   "source": [
    "Create network from the markers and with specified p-value threshold, given the name of the study. This function first runs the enrichment analysis on the human pathway network and returns the significant nodes. This information is then used to create the graph."
   ]
  },
  {
   "cell_type": "code",
   "execution_count": 3,
   "id": "272a3ac7-c72d-432d-b4b2-0fb49aa0c1e2",
   "metadata": {},
   "outputs": [],
   "source": [
    "graph = utils.create_network_from_markers(markers, p_value, study)"
   ]
  },
  {
   "cell_type": "markdown",
   "id": "14ea89f1-a0c0-4a25-bb42-9f17e27002da",
   "metadata": {},
   "source": [
    "The main class attribute of the returned graph is `graph.graph_nx` which is a `NetworkX.DiGraph` object---a directed graph where each node has a weight and a significance. Weight is the p-value returned by the enrichment analysis, and significance is a string stating whether the pathway in the network is significant or not. Significant pathways are those that have p-value lower than the specified threshold, in this case 0.05.\n",
    "\n",
    "For example, let's take a look at the nodes corresponding to R-HSA-1358803 and R-HSA-15869 pathways:"
   ]
  },
  {
   "cell_type": "code",
   "execution_count": 4,
   "id": "4eb5e873-1976-46aa-a28b-22339d2c349b",
   "metadata": {},
   "outputs": [
    {
     "data": {
      "text/plain": [
       "{'stId': 'R-HSA-1358803',\n",
       " 'name': 'Downregulation of ERBB2:ERBB3 signaling',\n",
       " 'weight': 0.0109,\n",
       " 'significance': 'significant'}"
      ]
     },
     "execution_count": 4,
     "metadata": {},
     "output_type": "execute_result"
    }
   ],
   "source": [
    "graph.graph_nx.nodes['R-HSA-1358803']"
   ]
  },
  {
   "cell_type": "code",
   "execution_count": 5,
   "id": "196b4ec1-6fba-4625-947b-27c9b094a738",
   "metadata": {},
   "outputs": [
    {
     "data": {
      "text/plain": [
       "{'stId': 'R-HSA-15869',\n",
       " 'name': 'Metabolism of nucleotides',\n",
       " 'weight': 0.161,\n",
       " 'significance': 'non-significant'}"
      ]
     },
     "execution_count": 5,
     "metadata": {},
     "output_type": "execute_result"
    }
   ],
   "source": [
    "graph.graph_nx.nodes['R-HSA-15869']"
   ]
  },
  {
   "cell_type": "markdown",
   "id": "01029b22-eac4-4d6e-8715-413df3ec93b8",
   "metadata": {},
   "source": [
    "We notice that R-HSA-1358803 corresponds to \"Downregulation of ERBB2:ERBB3 signaling\", and is significant in the network created with the markers specified above (its p-value is 0.0109 which is less than 0.05). On the other hand, R-HSA-15869 corresponds to \"Metabolism of nucleotides\" which is non-significant in this network (its p-value is 0.161)."
   ]
  },
  {
   "cell_type": "markdown",
   "id": "a63329ae-4520-4a50-9abe-b00fbe27e840",
   "metadata": {},
   "source": [
    "Next we want to do is create an embedding of that graph. But in order to do that, graph should be in the DGL format."
   ]
  },
  {
   "cell_type": "code",
   "execution_count": 6,
   "id": "b47e9b02-64c3-4d4c-bcbb-c0c42f1db087",
   "metadata": {},
   "outputs": [
    {
     "data": {
      "text/plain": [
       "Graph(num_nodes=16050, num_edges=16850,\n",
       "      ndata_schemes={'weight': Scheme(shape=(), dtype=torch.float32), 'significance': Scheme(shape=(), dtype=torch.float32)}\n",
       "      edata_schemes={})"
      ]
     },
     "execution_count": 6,
     "metadata": {},
     "output_type": "execute_result"
    }
   ],
   "source": [
    "graph_dgl = utils.nx_to_dgl(graph.graph_nx)\n",
    "graph_dgl"
   ]
  },
  {
   "cell_type": "markdown",
   "id": "b998e365-62bc-4a61-9707-5794d01aa556",
   "metadata": {},
   "source": [
    "We also need a GNN model which will produce the embeddings. Since we want the model to be reusable at any given time, the parameters of the model have to be saved to the disk and loaded upon model initialization. The demo model that is already saved is a two-layers Graph Convolutional Network (GCN) and creates the the embeddings with latent dimension of 8.\n",
    "\n",
    "The GCN is chosen because it is a relatively \"lightweight\" model that was proven to have good performance on various graph-related tasks. For example, even when comparing an untrained GCN network against DeepWalk on semi-supervised node classification task, untrained GCN had superior performance! This means that it can more successfully leverage the topology of a graph and create meaningful representation than the traditional methods.\n",
    "\n",
    "First let's use a pretrained model which is saved as `data/example/models/model.pth`."
   ]
  },
  {
   "cell_type": "code",
   "execution_count": 7,
   "id": "578d74f1-63f9-4113-a865-0ef0bcb7c38e",
   "metadata": {},
   "outputs": [
    {
     "name": "stdout",
     "output_type": "stream",
     "text": [
      "GCNModel(\n",
      "  (linear): Linear(in_features=1, out_features=8, bias=True)\n",
      "  (conv_0): GraphConv(in=8, out=8, normalization=both, activation=None)\n",
      "  (relu): LeakyReLU(negative_slope=0.01)\n",
      "  (layers): ModuleList()\n",
      "  (predict): Linear(in_features=8, out_features=1, bias=True)\n",
      ")\n"
     ]
    }
   ],
   "source": [
    "net = model.GCNModel(dim_latent=8, num_layers=1)\n",
    "net.load_state_dict(torch.load('data/example/models/model.pth'))\n",
    "\n",
    "print(net)"
   ]
  },
  {
   "cell_type": "code",
   "execution_count": 8,
   "id": "8ae79414-2c92-475d-9312-6923dfb4de6d",
   "metadata": {},
   "outputs": [
    {
     "name": "stdout",
     "output_type": "stream",
     "text": [
      "torch.Size([16050, 8])\n"
     ]
    },
    {
     "data": {
      "text/plain": [
       "tensor([[ 0.5248, -1.7190,  3.4393,  ...,  0.0494,  1.2359,  2.3749],\n",
       "        [ 0.5248, -1.7190,  3.4393,  ...,  0.0494,  1.2359,  2.3749],\n",
       "        [ 0.5390, -1.7577,  3.5163,  ...,  0.0483,  1.2612,  2.4266],\n",
       "        ...,\n",
       "        [ 0.6588, -2.0835,  4.1661,  ...,  0.0388,  1.4753,  2.8631],\n",
       "        [ 0.6792, -2.1391,  4.2769,  ...,  0.0371,  1.5118,  2.9374],\n",
       "        [ 0.6588, -2.0835,  4.1661,  ...,  0.0388,  1.4753,  2.8631]])"
      ]
     },
     "execution_count": 8,
     "metadata": {},
     "output_type": "execute_result"
    }
   ],
   "source": [
    "embeddings = net(graph_dgl).detach()\n",
    "print(embeddings.shape)\n",
    "embeddings"
   ]
  },
  {
   "cell_type": "markdown",
   "id": "fca51a08-bdfe-47a1-9977-85539559d851",
   "metadata": {},
   "source": [
    "This tensor has a shape 16050 x 8, which means that each row represents the embedding of one node, as there are 16050 nodes in the pathway network, and each of these embeddings is 8-dimensional (as specified when initializing the model)."
   ]
  },
  {
   "cell_type": "markdown",
   "id": "357ed106-e22c-4930-8d00-eb56f59fb23e",
   "metadata": {},
   "source": [
    "To find the embeddings of some specific pathways, e.g. R-HSA-1358803, we have to load some auxilary information. We can also fetch embeddings of pathways by specifying their name, not only stId."
   ]
  },
  {
   "cell_type": "code",
   "execution_count": 9,
   "id": "1ac3033b-8d36-41c8-87c6-3ede4d6c1648",
   "metadata": {},
   "outputs": [],
   "source": [
    "name_to_id = pickle.load(open('data/example/info/name_to_id.pkl', 'rb'))\n",
    "sorted_stid_list = pickle.load(open('data/example/info/sorted_stid_list.pkl', 'rb'))"
   ]
  },
  {
   "cell_type": "markdown",
   "id": "71d593d8-048c-4855-9bb4-e5d3a8db4271",
   "metadata": {},
   "source": [
    "Here, `name_to_id` is a dictionary which maps each pathway name to its stId, and sorted_stid_list is, as the name states, the sorted list of all the stIds in the network. This is necessary due to how DGL stores the nodes when converting the network from the NetworkX format. Let's first obtain the embedding of R-HSA-1358803:"
   ]
  },
  {
   "cell_type": "code",
   "execution_count": 10,
   "id": "6c20da87-392a-4f35-9869-e5b2b8dd8dbb",
   "metadata": {},
   "outputs": [
    {
     "data": {
      "text/plain": [
       "tensor([ 0.1191, -0.7060,  1.0289,  0.1243, -0.6507,  0.2316,  0.7704,  0.7426])"
      ]
     },
     "execution_count": 10,
     "metadata": {},
     "output_type": "execute_result"
    }
   ],
   "source": [
    "idx = sorted_stid_list.index('R-HSA-1358803')\n",
    "embeddings[idx]"
   ]
  },
  {
   "cell_type": "markdown",
   "id": "1cc2aa1d-6b62-4ffd-a80c-fab33e482874",
   "metadata": {},
   "source": [
    "Let's now get the embedding of the pathway \"Metabolism of nucleotides\":"
   ]
  },
  {
   "cell_type": "code",
   "execution_count": 11,
   "id": "f949f91c-44eb-41e8-a03a-432aa41a8a20",
   "metadata": {},
   "outputs": [
    {
     "data": {
      "text/plain": [
       "tensor([ 0.1903, -0.8606,  1.5054,  0.1874, -0.8670,  0.1614,  0.7858,  1.0684])"
      ]
     },
     "execution_count": 11,
     "metadata": {},
     "output_type": "execute_result"
    }
   ],
   "source": [
    "stid = name_to_id['Metabolism of nucleotides']\n",
    "idx = sorted_stid_list.index(stid)\n",
    "embeddings[idx]"
   ]
  },
  {
   "cell_type": "markdown",
   "id": "6c38020b-6748-4cb4-810c-f2598e4e837a",
   "metadata": {},
   "source": [
    "## Working with datasets"
   ]
  },
  {
   "cell_type": "markdown",
   "id": "320242ea-919d-41be-a98a-2a695ab32b91",
   "metadata": {},
   "source": [
    "Steps above are useful when we are working with a single pathway network, but the procedure could be cumbersome when we need to work with several networks. That's where we can use datasets to automate part of the process. Here we will work with a toy dataset consisting of four different pathways, generated by lighting up pathways specified via their name. The networks are called A, B, C, and D, and the relations between them is such that $A = D$, $A \\& D \\subset C$, $B \\cap C = \\emptyset$."
   ]
  },
  {
   "cell_type": "code",
   "execution_count": 12,
   "id": "205dcc46-a8a7-469a-be36-a6c387237832",
   "metadata": {},
   "outputs": [],
   "source": [
    "graph_A, graph_B, graph_c, graph_D, _ = utils.create_toy_study_with_names(data_dir='data/example')\n",
    "embedding_dict = utils.create_embeddings(data_dir='data/example')"
   ]
  },
  {
   "cell_type": "markdown",
   "id": "1a0d25ee-bb1c-488b-aac0-af45ffdadafe",
   "metadata": {},
   "source": [
    "What happens under the hood is that a PathwayDataset is created. This is a DGL dataset that makes processing raw graphs and loading DGL graphs easier. Creating this dataset is not mandatory, but helps when working with multiple graphs."
   ]
  },
  {
   "cell_type": "code",
   "execution_count": 13,
   "id": "d95c12af-8581-4a29-a130-d06657f33ad7",
   "metadata": {},
   "outputs": [
    {
     "name": "stdout",
     "output_type": "stream",
     "text": [
      "study_A.dgl\n",
      "Graph(num_nodes=16050, num_edges=16850,\n",
      "      ndata_schemes={'significance': Scheme(shape=(), dtype=torch.float32), 'weight': Scheme(shape=(), dtype=torch.float32)}\n",
      "      edata_schemes={})\n"
     ]
    }
   ],
   "source": [
    "from reactome_gnn import dataset\n",
    "\n",
    "ds = dataset.PathwayDataset(root='data/example')\n",
    "\n",
    "graph, name = ds[0]\n",
    "print(name)\n",
    "print(graph)"
   ]
  },
  {
   "cell_type": "markdown",
   "id": "b2755420-0736-45d7-bcf2-e24f8a0fb47e",
   "metadata": {},
   "source": [
    "But let's return to creating the embeddings. What's inside the embedding_dict?"
   ]
  },
  {
   "cell_type": "code",
   "execution_count": 14,
   "id": "fef9f1f5-7def-41c7-9929-0a44b00aaf66",
   "metadata": {},
   "outputs": [
    {
     "data": {
      "text/plain": [
       "{'study_A.dgl': tensor([[ 0.5248, -1.7190,  3.4393,  ...,  0.0494,  1.2359,  2.3749],\n",
       "         [ 0.5248, -1.7190,  3.4393,  ...,  0.0494,  1.2359,  2.3749],\n",
       "         [ 0.5390, -1.7577,  3.5163,  ...,  0.0483,  1.2612,  2.4266],\n",
       "         ...,\n",
       "         [ 0.6588, -2.0835,  4.1661,  ...,  0.0388,  1.4753,  2.8631],\n",
       "         [ 0.6792, -2.1391,  4.2769,  ...,  0.0371,  1.5118,  2.9374],\n",
       "         [ 0.6588, -2.0835,  4.1661,  ...,  0.0388,  1.4753,  2.8631]]),\n",
       " 'study_B.dgl': tensor([[ 0.5248, -1.7190,  3.4393,  ...,  0.0494,  1.2359,  2.3749],\n",
       "         [ 0.5248, -1.7190,  3.4393,  ...,  0.0494,  1.2359,  2.3749],\n",
       "         [ 0.5390, -1.7577,  3.5163,  ...,  0.0483,  1.2612,  2.4266],\n",
       "         ...,\n",
       "         [ 0.6588, -2.0835,  4.1661,  ...,  0.0388,  1.4753,  2.8631],\n",
       "         [ 0.6792, -2.1391,  4.2769,  ...,  0.0371,  1.5118,  2.9374],\n",
       "         [ 0.6588, -2.0835,  4.1661,  ...,  0.0388,  1.4753,  2.8631]]),\n",
       " 'study_C.dgl': tensor([[ 0.5248, -1.7190,  3.4393,  ...,  0.0494,  1.2359,  2.3749],\n",
       "         [ 0.5248, -1.7190,  3.4393,  ...,  0.0494,  1.2359,  2.3749],\n",
       "         [ 0.5390, -1.7577,  3.5163,  ...,  0.0483,  1.2612,  2.4266],\n",
       "         ...,\n",
       "         [ 0.6588, -2.0835,  4.1661,  ...,  0.0388,  1.4753,  2.8631],\n",
       "         [ 0.6792, -2.1391,  4.2769,  ...,  0.0371,  1.5118,  2.9374],\n",
       "         [ 0.6588, -2.0835,  4.1661,  ...,  0.0388,  1.4753,  2.8631]]),\n",
       " 'study_D.dgl': tensor([[ 0.5248, -1.7190,  3.4393,  ...,  0.0494,  1.2359,  2.3749],\n",
       "         [ 0.5248, -1.7190,  3.4393,  ...,  0.0494,  1.2359,  2.3749],\n",
       "         [ 0.5390, -1.7577,  3.5163,  ...,  0.0483,  1.2612,  2.4266],\n",
       "         ...,\n",
       "         [ 0.6588, -2.0835,  4.1661,  ...,  0.0388,  1.4753,  2.8631],\n",
       "         [ 0.6792, -2.1391,  4.2769,  ...,  0.0371,  1.5118,  2.9374],\n",
       "         [ 0.6588, -2.0835,  4.1661,  ...,  0.0388,  1.4753,  2.8631]]),\n",
       " 'study_E.dgl': tensor([[ 0.5248, -1.7190,  3.4393,  ...,  0.0494,  1.2359,  2.3749],\n",
       "         [ 0.5248, -1.7190,  3.4393,  ...,  0.0494,  1.2359,  2.3749],\n",
       "         [ 0.5390, -1.7577,  3.5163,  ...,  0.0483,  1.2612,  2.4266],\n",
       "         ...,\n",
       "         [ 0.6588, -2.0835,  4.1661,  ...,  0.0388,  1.4753,  2.8631],\n",
       "         [ 0.6792, -2.1391,  4.2769,  ...,  0.0371,  1.5118,  2.9374],\n",
       "         [ 0.6588, -2.0835,  4.1661,  ...,  0.0388,  1.4753,  2.8631]])}"
      ]
     },
     "execution_count": 14,
     "metadata": {},
     "output_type": "execute_result"
    }
   ],
   "source": [
    "embedding_dict"
   ]
  },
  {
   "cell_type": "markdown",
   "id": "ca468a7b-8e96-43b8-854e-7e494762b9bf",
   "metadata": {},
   "source": [
    "We see that we have obtained a dictionary, where keys are the names of the graphs, and the values are the embedding tensors for the corresponding graphs. The graph E is created for the validation purposes during the model training. We can obtain the embedding of each node in the same way as we did above, in the case of a single graph."
   ]
  },
  {
   "cell_type": "markdown",
   "id": "ac737fb8-e99c-4277-95e1-30d4d8e4cd41",
   "metadata": {},
   "source": [
    "### Comparing the embeddings"
   ]
  },
  {
   "cell_type": "markdown",
   "id": "80c98590-e589-4167-835e-f9a8ded98037",
   "metadata": {},
   "source": [
    "To compare the embeddings obtained above, we use Canonical Correlation Analysis (CCA).  First we specify the targets Y for each graph, which specify which nodes are significant and which are not. Then we fit the data on the CCA model from scikit-learn. This fitted model can be used to transform embedding data and compare embeddings of nodes across different graphs. This is all done inside the `utils.fit_cca_on_toy_data()` function, so we can simply call it like this:"
   ]
  },
  {
   "cell_type": "code",
   "execution_count": 15,
   "id": "f79d6668-92c3-46d1-af46-5039d1953f40",
   "metadata": {},
   "outputs": [],
   "source": [
    "cca = utils.fit_cca_on_toy_data('data/example')"
   ]
  },
  {
   "cell_type": "markdown",
   "id": "ad2294fd-b3a3-4611-92b7-d4bea407657b",
   "metadata": {},
   "source": [
    "But for the sake of ilustration, we show here how it is done step-by-step so that the code can be reused with new data."
   ]
  },
  {
   "cell_type": "code",
   "execution_count": 16,
   "id": "6867c7a4-3abf-4514-b569-40d75ee650b3",
   "metadata": {},
   "outputs": [
    {
     "data": {
      "text/plain": [
       "CCA(n_components=1)"
      ]
     },
     "execution_count": 16,
     "metadata": {},
     "output_type": "execute_result"
    }
   ],
   "source": [
    "# Note: We do not fit graph D, since it is equivalent to graph A\n",
    "\n",
    "from sklearn.cross_decomposition import CCA\n",
    "\n",
    "study_A = [\"Signaling by WNT\", \"WNT ligand biogenesis and trafficking\", \"Degradation of beta-catenin by the destruction complex\",\n",
    "           \"TCF dependent signaling in response to WNT\", \"Beta-catenin independent WNT signaling\"]\n",
    "study_B = [\"Autophagy\", \"Macroautophagy\", \"Chaperone Mediated Autophagy\", \"Late endosomal microautophagy\"]\n",
    "study_C = [\"Signal Transduction\", \"Signaling by NOTCH\", \"Signaling by NOTCH1\", \"Signaling by NOTCH2\", \"Signaling by NOTCH3\",\n",
    "           \"Signaling by NOTCH4\", \"Activated NOTCH1 Transmits Signal to the Nucleus\",\n",
    "           \"NOTCH1 Intracellular Domain Regulates Transcription\", \"Signaling by WNT\", \"WNT ligand biogenesis and trafficking\",\n",
    "           \"Degradation of beta-catenin by the destruction complex\", \"TCF dependent signaling in response to WNT\",\n",
    "           \"Beta-catenin independent WNT signaling\"]\n",
    "\n",
    "emb_A = embedding_dict['study_A.dgl']\n",
    "emb_B = embedding_dict['study_B.dgl']\n",
    "emb_C = embedding_dict['study_C.dgl']\n",
    "emb_D = embedding_dict['study_D.dgl']\n",
    "\n",
    "name_to_id = pickle.load(open('data/example/info/name_to_id.pkl', 'rb'))\n",
    "sorted_stid_list = pickle.load(open('data/example/info/sorted_stid_list.pkl', 'rb'))\n",
    "\n",
    "indices_A = [sorted_stid_list.index(id) for name, id in name_to_id.items() if name in study_A]\n",
    "indices_B = [sorted_stid_list.index(id) for name, id in name_to_id.items() if name in study_B]\n",
    "indices_C = [sorted_stid_list.index(id) for name, id in name_to_id.items() if name in study_C]\n",
    "\n",
    "y_A = torch.tensor([1.0 if i in indices_A else 0.0 for i in range(len(sorted_stid_list))]).unsqueeze(-1)\n",
    "y_B = torch.tensor([1.0 if i in indices_B else 0.0 for i in range(len(sorted_stid_list))]).unsqueeze(-1)\n",
    "y_C = torch.tensor([1.0 if i in indices_C else 0.0 for i in range(len(sorted_stid_list))]).unsqueeze(-1)\n",
    "\n",
    "cca = CCA(1)\n",
    "cca.fit(emb_A, y_A).fit(emb_B, y_B).fit(emb_C, y_C)\n",
    "cca"
   ]
  },
  {
   "cell_type": "markdown",
   "id": "b821c912-a762-43ed-b151-965e8336e465",
   "metadata": {},
   "source": [
    "Next thing we need to do is transform the embedding tensors:"
   ]
  },
  {
   "cell_type": "code",
   "execution_count": 17,
   "id": "719a2de2-ff7a-45fd-8bfc-b09f6d1892ae",
   "metadata": {},
   "outputs": [],
   "source": [
    "emb_A_t = cca.transform(emb_A)\n",
    "emb_B_t = cca.transform(emb_B)\n",
    "emb_C_t = cca.transform(emb_C)\n",
    "emb_D_t = cca.transform(emb_D)"
   ]
  },
  {
   "cell_type": "markdown",
   "id": "72e8157b-2241-4710-b93e-6bac78d5c430",
   "metadata": {},
   "source": [
    "Finally, we can compare the obtained embeddings. For example, let's compare the embeddings of nodes that correspond to pathway \"WNT ligand biogenesis and trafficking\". This pathway is present in graphs A, C, and D, but not in B."
   ]
  },
  {
   "cell_type": "code",
   "execution_count": 18,
   "id": "e6064930-1034-40d1-8443-9fb2fe1e0ed6",
   "metadata": {},
   "outputs": [
    {
     "name": "stdout",
     "output_type": "stream",
     "text": [
      "[0.00035058] [-9.12171039e-07] [0.00035058] [0.00035058]\n"
     ]
    }
   ],
   "source": [
    "stid = name_to_id['WNT ligand biogenesis and trafficking']\n",
    "idx = sorted_stid_list.index(stid)\n",
    "\n",
    "print(emb_A_t[idx], emb_B_t[idx], emb_C_t[idx], emb_D_t[idx])"
   ]
  },
  {
   "cell_type": "markdown",
   "id": "b262da5f-9b4b-4c02-8469-c648723e21a3",
   "metadata": {},
   "source": [
    "We can see that the values returned are identical in the case of A and D, as it should be since these networks are the same. We also notice that the values are relatively close to each other in case of A and C (as well as D and C),\n",
    "In fact, we can also see that the value of C is also matching the values of A and D. This is due to similarity of the three pathway networks, and the lack of expressive power of the used model---it has only one GCN layer. Finally, we notice that the value is significantly different in the case of network B in which this pathway is not significant. This shows that the embeddings are consistent within this dataset."
   ]
  },
  {
   "cell_type": "markdown",
   "id": "418858a3-1cab-438f-9ccf-1c85ce366bfa",
   "metadata": {},
   "source": [
    "## Training a new model"
   ]
  },
  {
   "cell_type": "markdown",
   "id": "8f861195-fc6f-4fd0-af6c-60f7eff26b0d",
   "metadata": {},
   "source": [
    "Let's now train a new model from scratch! First we need to define hyperparameters which will be used. The available hyperparameters are:\n",
    "- `num_epochs` - For how many epochs will the model be trained\n",
    "- `dim_latent` - Dimension of the produced embeddings\n",
    "- `num_layers` - Number of hidden GCN layers in the network\n",
    "- `batch_size` - Number of examples in a mini-batch\n",
    "- `device`     - CUDA or CPU\n",
    "- `lr`         - Learning rate\n",
    "\n",
    "The hyperparameters are stored in a dictionary. Let's define a network with 4 GCN layers, and let the embedding dimenion be 4. We will train the network for 100 epochs. The batch size, due to a small number of training dataset, will be one, and learning rate will be 1e-3."
   ]
  },
  {
   "cell_type": "code",
   "execution_count": 19,
   "id": "78a6f931-e585-4b7a-a84e-5ac970499eb7",
   "metadata": {},
   "outputs": [],
   "source": [
    "hyperparameters = {\n",
    "        'num_epochs': 100,\n",
    "        'dim_latent': 4,\n",
    "        'num_layers': 4,\n",
    "        'batch_size': 1,\n",
    "        'device': 'cuda' if torch.cuda.is_available() else 'cpu',\n",
    "        'lr': 1e-3,\n",
    "}"
   ]
  },
  {
   "cell_type": "markdown",
   "id": "a54ba9a5-570d-402b-bf99-60284e327558",
   "metadata": {},
   "source": [
    "Training the model can be done separately by calling a `train` function in the `train.py` module. The loss plot will be saved to the disk, as well as the trained model. However, this is also done automatically in the `utils.create_embeddings` function, if appropriate arguments are passed. We can take a look at that function to see which arguments we need."
   ]
  },
  {
   "cell_type": "code",
   "execution_count": 20,
   "id": "ed48f976-9872-4d5c-9e7d-c9f6b2ea977f",
   "metadata": {},
   "outputs": [
    {
     "name": "stdout",
     "output_type": "stream",
     "text": [
      "Help on function create_embeddings in module reactome_gnn.utils:\n",
      "\n",
      "create_embeddings(load_model=True, save=False, data_dir='demo/data/example', hyperparams=None, plot=True)\n",
      "    Create embeddings for all the graphs stored on the disk.\n",
      "    \n",
      "    First the Pathway dataset is created which takes all the graphs\n",
      "    stored in the 'raw' directory, processes them, and stores them in\n",
      "    the 'processed' directory. Each graph is fed to the model with\n",
      "    specified latent dimension and number of GCN layers, which returns\n",
      "    the embedding of that graph. All the embeddings are saved on the\n",
      "    disk in the 'embeddings' directory.\n",
      "    \n",
      "    Parameters\n",
      "    ----------\n",
      "    load_model : bool, optional\n",
      "        Whether to load an old model or create a new one\n",
      "    save : bool, optional\n",
      "        Whether to save the created embeddings to the disk, default: False\n",
      "    data_dir : str, optional\n",
      "        Relative path to where the data is stored\n",
      "    hyperparams : dict, optional\n",
      "        In case no hyperparameter dictionary is passed, default\n",
      "        hyperparameters are used\n",
      "    plot : bool, optional\n",
      "        In case of training the model, whether loss should be plotted\n",
      "    \n",
      "    Returns\n",
      "    -------\n",
      "    list\n",
      "        A list of embedding-tuples, the first element in the tuple is\n",
      "        the name of the graph, the second element is the corresponding\n",
      "        embedding.\n",
      "\n"
     ]
    }
   ],
   "source": [
    "help(utils.create_embeddings)"
   ]
  },
  {
   "cell_type": "markdown",
   "id": "47e2263d-5280-46f6-8489-d4a906a3bb2b",
   "metadata": {},
   "source": [
    "We can see that `load_model` should be set to `False` (since we want to train a new model, not load a pretrained one), and that we should pass the defined dictionary as `hyperparams`. Running this function will also run the training loop, which will output training and validation loss every 10 epochs, as well as plot the graph of how loss changes over epochs."
   ]
  },
  {
   "cell_type": "code",
   "execution_count": 21,
   "id": "aa766c01-853f-4224-9b6a-651c7b521449",
   "metadata": {},
   "outputs": [
    {
     "name": "stdout",
     "output_type": "stream",
     "text": [
      "Epoch: 10\t\tTraining loss: 0.501051127910614\n",
      "Epoch: 10\t\tValidation loss: 0.49857112765312195\n",
      "Epoch: 20\t\tTraining loss: 0.4540109535058339\n",
      "Epoch: 20\t\tValidation loss: 0.44984833896160126\n",
      "Epoch: 30\t\tTraining loss: 0.37716904282569885\n",
      "Epoch: 30\t\tValidation loss: 0.37077496945858\n",
      "Epoch: 40\t\tTraining loss: 0.2716922660668691\n",
      "Epoch: 40\t\tValidation loss: 0.2640504986047745\n",
      "Epoch: 50\t\tTraining loss: 0.16615507503350577\n",
      "Epoch: 50\t\tValidation loss: 0.1598590463399887\n",
      "Epoch: 60\t\tTraining loss: 0.09329420328140259\n",
      "Epoch: 60\t\tValidation loss: 0.0896369069814682\n",
      "Epoch: 70\t\tTraining loss: 0.05581085259715716\n",
      "Epoch: 70\t\tValidation loss: 0.05398019589483738\n",
      "Epoch: 80\t\tTraining loss: 0.037939353535572685\n",
      "Epoch: 80\t\tValidation loss: 0.03694095276296139\n",
      "Epoch: 90\t\tTraining loss: 0.028637549529472988\n",
      "Epoch: 90\t\tValidation loss: 0.027999610640108585\n",
      "Epoch: 100\t\tTraining loss: 0.02316673845052719\n",
      "Epoch: 100\t\tValidation loss: 0.022698458284139633\n"
     ]
    },
    {
     "data": {
      "image/png": "[encoded data removed]",
      "text/plain": [
       "<Figure size 432x288 with 1 Axes>"
      ]
     },
     "metadata": {
      "needs_background": "light"
     },
     "output_type": "display_data"
    }
   ],
   "source": [
    "embedding_dict = utils.create_embeddings(data_dir='data/example', load_model=False, hyperparams=hyperparameters)"
   ]
  },
  {
   "cell_type": "markdown",
   "id": "d66c0e12-8161-43f3-a1b3-d052eb1a0b80",
   "metadata": {},
   "source": [
    "We can notice how the loss drops significantly during training.\n",
    "\n",
    "Since these embeddings are not stored on the disk (we didn't specify `save=True`), let's perform CCA analysis manually once again."
   ]
  },
  {
   "cell_type": "code",
   "execution_count": 22,
   "id": "d353cafd-60db-4231-8900-762d1a64bfc6",
   "metadata": {},
   "outputs": [],
   "source": [
    "emb_A = embedding_dict['study_A.dgl']\n",
    "emb_B = embedding_dict['study_B.dgl']\n",
    "emb_C = embedding_dict['study_C.dgl']\n",
    "emb_D = embedding_dict['study_D.dgl']\n",
    "\n",
    "name_to_id = pickle.load(open('data/example/info/name_to_id.pkl', 'rb'))\n",
    "sorted_stid_list = pickle.load(open('data/example/info/sorted_stid_list.pkl', 'rb'))\n",
    "\n",
    "indices_A = [sorted_stid_list.index(id) for name, id in name_to_id.items() if name in study_A]\n",
    "indices_B = [sorted_stid_list.index(id) for name, id in name_to_id.items() if name in study_B]\n",
    "indices_C = [sorted_stid_list.index(id) for name, id in name_to_id.items() if name in study_C]\n",
    "\n",
    "y_A = torch.tensor([1.0 if i in indices_A else 0.0 for i in range(len(sorted_stid_list))]).unsqueeze(-1)\n",
    "y_B = torch.tensor([1.0 if i in indices_B else 0.0 for i in range(len(sorted_stid_list))]).unsqueeze(-1)\n",
    "y_C = torch.tensor([1.0 if i in indices_C else 0.0 for i in range(len(sorted_stid_list))]).unsqueeze(-1)\n",
    "\n",
    "cca = CCA(1)\n",
    "cca.fit(emb_A, y_A).fit(emb_B, y_B).fit(emb_C, y_C)\n",
    "\n",
    "emb_A_t = cca.transform(emb_A)\n",
    "emb_B_t = cca.transform(emb_B)\n",
    "emb_C_t = cca.transform(emb_C)\n",
    "emb_D_t = cca.transform(emb_D)"
   ]
  },
  {
   "cell_type": "code",
   "execution_count": 23,
   "id": "7a80e186-fe6d-4e2b-bf0e-e95f9076e0d9",
   "metadata": {},
   "outputs": [
    {
     "name": "stdout",
     "output_type": "stream",
     "text": [
      "[0.00024677] [7.02518821e-05] [0.0003934] [0.00024677]\n"
     ]
    }
   ],
   "source": [
    "stid = name_to_id['WNT ligand biogenesis and trafficking']\n",
    "idx = sorted_stid_list.index(stid)\n",
    "\n",
    "print(emb_A_t[idx], emb_B_t[idx], emb_C_t[idx], emb_D_t[idx])"
   ]
  },
  {
   "cell_type": "markdown",
   "id": "0efd6a71-f50c-4c4e-a58f-2673d1316f8c",
   "metadata": {},
   "source": [
    "We see that the values of A and D are still the same as they should be. The value of C now differs from the value of A and D, although it's still relatively close to them. This is due to the fact that this network has a lot better expressivity than the one in the previous case (pretrained network). Here we used 4 GCN layers, meaning that a lot of information about the neighborhood will be condensed into a single node. From this we can conclude that the embeddings are still consistent within this dataset, but also that larger number of layers doesn't necessarily lead to better embeddings."
   ]
  }
 ],
 "metadata": {
  "kernelspec": {
   "display_name": "Python 3 (ipykernel)",
   "language": "python",
   "name": "python3"
  },
  "language_info": {
   "codemirror_mode": {
    "name": "ipython",
    "version": 3
   },
   "file_extension": ".py",
   "mimetype": "text/x-python",
   "name": "python",
   "nbconvert_exporter": "python",
   "pygments_lexer": "ipython3",
   "version": "3.8.10"
  }
 },
 "nbformat": 4,
 "nbformat_minor": 5
}
